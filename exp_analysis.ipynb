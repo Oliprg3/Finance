{
 "cells": [
  {
   "cell_type": "code",
   "source": [
    "import pandas as pd\n",
    "import matplotlib.pyplot as plt\n",
    "import yfinance as yf\n",
    "\n",
    "symbol = 'AAPL'\n",
    "data = yf.download(symbol, start='2010-01-01')\n",
    "data['Dividends'].plot(title=f'{symbol} Historical Dividends')\n",
    "plt.show()\n",
    "\n",
    "# Basic stats\n",
    "print(data['Dividends'].describe())"
   ],
   "metadata": {}
  }
 ],
 "metadata": {}
}
